{
 "cells": [
  {
   "cell_type": "code",
   "execution_count": 2,
   "id": "37aabf8d",
   "metadata": {},
   "outputs": [],
   "source": [
    "# importing the required libraries\n",
    "import pandas as pd\n",
    "import nltk\n",
    "import string\n",
    "text1 = \"Pattern recognition is a data analysis method that uses machine learning algorithms to automatically recognize patterns and regularities in data. This data can be anything from text and images to sounds or other definable qualities. Pattern recognition systems can recognize familiar patterns quickly and accurately. They can also recognize and classify unfamiliar objects, recognize shapes and objects from different angles, and identify patterns and objects even if they’re partially obscured. \"\n",
    "text2 = \"Pattern recognition has a variety of applications, including image processing, speech and fingerprint recognition, aerial photo interpretation, optical character recognition in scanned documents such as contracts and photographs, and even medical imaging and diagnosis. Pattern recognition is also the technology behind data analytics. For example, the technique can be used to predict stock market outcomes. \"\n",
    "docs = [text1,text2]"
   ]
  },
  {
   "cell_type": "code",
   "execution_count": 20,
   "id": "fb1044a0",
   "metadata": {},
   "outputs": [
    {
     "data": {
      "text/plain": [
       "['Pattern recognition is a data analysis method that uses machine learning algorithms to automatically recognize patterns and regularities in data. This data can be anything from text and images to sounds or other definable qualities. Pattern recognition systems can recognize familiar patterns quickly and accurately. They can also recognize and classify unfamiliar objects, recognize shapes and objects from different angles, and identify patterns and objects even if they’re partially obscured. ',\n",
       " 'Pattern recognition has a variety of applications, including image processing, speech and fingerprint recognition, aerial photo interpretation, optical character recognition in scanned documents such as contracts and photographs, and even medical imaging and diagnosis. Pattern recognition is also the technology behind data analytics. For example, the technique can be used to predict stock market outcomes. ']"
      ]
     },
     "execution_count": 20,
     "metadata": {},
     "output_type": "execute_result"
    }
   ],
   "source": [
    "docs"
   ]
  },
  {
   "cell_type": "code",
   "execution_count": 3,
   "id": "fe9ec64e",
   "metadata": {},
   "outputs": [
    {
     "data": {
      "text/plain": [
       "['pattern recognition is a data analysis method that uses machine learning algorithms to automatically recognize patterns and regularities in data. this data can be anything from text and images to sounds or other definable qualities. pattern recognition systems can recognize familiar patterns quickly and accurately. they can also recognize and classify unfamiliar objects, recognize shapes and objects from different angles, and identify patterns and objects even if they’re partially obscured. ',\n",
       " 'pattern recognition has a variety of applications, including image processing, speech and fingerprint recognition, aerial photo interpretation, optical character recognition in scanned documents such as contracts and photographs, and even medical imaging and diagnosis. pattern recognition is also the technology behind data analytics. for example, the technique can be used to predict stock market outcomes. ']"
      ]
     },
     "execution_count": 3,
     "metadata": {},
     "output_type": "execute_result"
    }
   ],
   "source": [
    "# converting the string into lower \n",
    "import string\n",
    "lower = []\n",
    "for i in docs:\n",
    "    lower.append(i.lower())\n",
    "lower   "
   ]
  },
  {
   "cell_type": "code",
   "execution_count": 4,
   "id": "3fbd6de7",
   "metadata": {},
   "outputs": [
    {
     "name": "stdout",
     "output_type": "stream",
     "text": [
      "['pattern recognition is a data analysis method that uses machine learning algorithms to automatically recognize patterns and regularities in data this data can be anything from text and images to sounds or other definable qualities pattern recognition systems can recognize familiar patterns quickly and accurately they can also recognize and classify unfamiliar objects recognize shapes and objects from different angles and identify patterns and objects even if they’re partially obscured ']\n",
      "['pattern recognition is a data analysis method that uses machine learning algorithms to automatically recognize patterns and regularities in data this data can be anything from text and images to sounds or other definable qualities pattern recognition systems can recognize familiar patterns quickly and accurately they can also recognize and classify unfamiliar objects recognize shapes and objects from different angles and identify patterns and objects even if they’re partially obscured ', 'pattern recognition has a variety of applications including image processing speech and fingerprint recognition aerial photo interpretation optical character recognition in scanned documents such as contracts and photographs and even medical imaging and diagnosis pattern recognition is also the technology behind data analytics for example the technique can be used to predict stock market outcomes ']\n"
     ]
    }
   ],
   "source": [
    "# removing the punctuations\n",
    "no_punc_txt = []\n",
    "for i in lower:\n",
    "    no_punc_txt.append(i.translate(i.maketrans('', '', string.punctuation)))\n",
    "    print(no_punc_txt)"
   ]
  },
  {
   "cell_type": "code",
   "execution_count": 33,
   "id": "7c2270df",
   "metadata": {},
   "outputs": [
    {
     "name": "stdout",
     "output_type": "stream",
     "text": [
      "[['Pattern', 'recognition', 'is', 'a', 'data', 'analysis', 'method', 'that', 'uses', 'machine', 'learning', 'algorithms', 'to', 'automatically', 'recognize', 'patterns', 'and', 'regularities', 'in', 'data', '.', 'This', 'data', 'can', 'be', 'anything', 'from', 'text', 'and', 'images', 'to', 'sounds', 'or', 'other', 'definable', 'qualities', '.', 'Pattern', 'recognition', 'systems', 'can', 'recognize', 'familiar', 'patterns', 'quickly', 'and', 'accurately', '.', 'They', 'can', 'also', 'recognize', 'and', 'classify', 'unfamiliar', 'objects', ',', 'recognize', 'shapes', 'and', 'objects', 'from', 'different', 'angles', ',', 'and', 'identify', 'patterns', 'and', 'objects', 'even', 'if', 'they', '’', 're', 'partially', 'obscured', '.'], ['Pattern', 'recognition', 'has', 'a', 'variety', 'of', 'applications', ',', 'including', 'image', 'processing', ',', 'speech', 'and', 'fingerprint', 'recognition', ',', 'aerial', 'photo', 'interpretation', ',', 'optical', 'character', 'recognition', 'in', 'scanned', 'documents', 'such', 'as', 'contracts', 'and', 'photographs', ',', 'and', 'even', 'medical', 'imaging', 'and', 'diagnosis', '.', 'Pattern', 'recognition', 'is', 'also', 'the', 'technology', 'behind', 'data', 'analytics', '.', 'For', 'example', ',', 'the', 'technique', 'can', 'be', 'used', 'to', 'predict', 'stock', 'market', 'outcomes', '.']]\n"
     ]
    }
   ],
   "source": [
    "# word tokenizing\n",
    "from nltk import word_tokenize\n",
    "word_tokens = []\n",
    "for i in docs:\n",
    "    word_tokens.append(nltk.word_tokenize(i))\n",
    "print(word_tokens)"
   ]
  },
  {
   "cell_type": "code",
   "execution_count": 6,
   "id": "681c6350",
   "metadata": {},
   "outputs": [
    {
     "name": "stdout",
     "output_type": "stream",
     "text": [
      "[['pattern recognition is a data analysis method that uses machine learning algorithms to automatically recognize patterns and regularities in data this data can be anything from text and images to sounds or other definable qualities pattern recognition systems can recognize familiar patterns quickly and accurately they can also recognize and classify unfamiliar objects recognize shapes and objects from different angles and identify patterns and objects even if they’re partially obscured'], ['pattern recognition has a variety of applications including image processing speech and fingerprint recognition aerial photo interpretation optical character recognition in scanned documents such as contracts and photographs and even medical imaging and diagnosis pattern recognition is also the technology behind data analytics for example the technique can be used to predict stock market outcomes']]\n"
     ]
    }
   ],
   "source": [
    "#sentence_tokeninzing\n",
    "from nltk import sent_tokenize\n",
    "sentence_tokens =  []\n",
    "for i in no_punc_txt :\n",
    "    sentence_tokens.append(sent_tokenize(i))\n",
    "print(sentence_tokens)"
   ]
  },
  {
   "cell_type": "code",
   "execution_count": 8,
   "id": "077e98d1",
   "metadata": {},
   "outputs": [
    {
     "name": "stdout",
     "output_type": "stream",
     "text": [
      "[['pattern', 'recognition', 'data', 'analysis', 'method', 'uses', 'machine', 'learning', 'algorithms', 'automatically', 'recognize', 'patterns', 'regularities', 'data', 'data', 'anything', 'text', 'images', 'sounds', 'definable', 'qualities', 'pattern', 'recognition', 'systems', 'recognize', 'familiar', 'patterns', 'quickly', 'accurately', 'also', 'recognize', 'classify', 'unfamiliar', 'objects', 'recognize', 'shapes', 'objects', 'different', 'angles', 'identify', 'patterns', 'objects', 'even', 'they’re', 'partially', 'obscured'], ['pattern', 'recognition', 'variety', 'applications', 'including', 'image', 'processing', 'speech', 'fingerprint', 'recognition', 'aerial', 'photo', 'interpretation', 'optical', 'character', 'recognition', 'scanned', 'documents', 'contracts', 'photographs', 'even', 'medical', 'imaging', 'diagnosis', 'pattern', 'recognition', 'also', 'technology', 'behind', 'data', 'analytics', 'example', 'technique', 'used', 'predict', 'stock', 'market', 'outcomes']]\n",
      "['pattern recognition data analysis method uses machine learning algorithms automatically recognize patterns regularities data data anything text images sounds definable qualities pattern recognition systems recognize familiar patterns quickly accurately also recognize classify unfamiliar objects recognize shapes objects different angles identify patterns objects even they’re partially obscured', 'pattern recognition variety applications including image processing speech fingerprint recognition aerial photo interpretation optical character recognition scanned documents contracts photographs even medical imaging diagnosis pattern recognition also technology behind data analytics example technique used predict stock market outcomes']\n"
     ]
    }
   ],
   "source": [
    "# removing the stop words from the sentences\n",
    "from nltk.corpus import stopwords\n",
    "filtered_words = []\n",
    "text = \" \"\n",
    "doc = []\n",
    "stop = set(stopwords.words(\"english\"))\n",
    "for i in no_punc_txt:\n",
    "    filtered_words.append([word.lower() for word in i.split() if word.lower() not in stop])\n",
    "print(filtered_words)\n",
    "for i in filtered_words:\n",
    "    for w in i:\n",
    "        filtered_sentence = (\" \").join(i)\n",
    "    doc.append(filtered_sentence)\n",
    "print(doc)"
   ]
  },
  {
   "cell_type": "code",
   "execution_count": 9,
   "id": "2bd5c8e1",
   "metadata": {},
   "outputs": [
    {
     "data": {
      "text/plain": [
       "{'pattern': {0, 1},\n",
       " 'recognition': {0, 1},\n",
       " 'data': {0, 1},\n",
       " 'analysis': {0},\n",
       " 'method': {0},\n",
       " 'uses': {0},\n",
       " 'machine': {0},\n",
       " 'learning': {0},\n",
       " 'algorithms': {0},\n",
       " 'automatically': {0},\n",
       " 'recognize': {0},\n",
       " 'patterns': {0},\n",
       " 'regularities': {0},\n",
       " 'anything': {0},\n",
       " 'text': {0},\n",
       " 'images': {0},\n",
       " 'sounds': {0},\n",
       " 'definable': {0},\n",
       " 'qualities': {0},\n",
       " 'systems': {0},\n",
       " 'familiar': {0},\n",
       " 'quickly': {0},\n",
       " 'accurately': {0},\n",
       " 'also': {0, 1},\n",
       " 'classify': {0},\n",
       " 'unfamiliar': {0},\n",
       " 'objects': {0},\n",
       " 'shapes': {0},\n",
       " 'different': {0},\n",
       " 'angles': {0},\n",
       " 'identify': {0},\n",
       " 'even': {0, 1},\n",
       " 'they’re': {0},\n",
       " 'partially': {0},\n",
       " 'obscured': {0},\n",
       " 'variety': {1},\n",
       " 'applications': {1},\n",
       " 'including': {1},\n",
       " 'image': {1},\n",
       " 'processing': {1},\n",
       " 'speech': {1},\n",
       " 'fingerprint': {1},\n",
       " 'aerial': {1},\n",
       " 'photo': {1},\n",
       " 'interpretation': {1},\n",
       " 'optical': {1},\n",
       " 'character': {1},\n",
       " 'scanned': {1},\n",
       " 'documents': {1},\n",
       " 'contracts': {1},\n",
       " 'photographs': {1},\n",
       " 'medical': {1},\n",
       " 'imaging': {1},\n",
       " 'diagnosis': {1},\n",
       " 'technology': {1},\n",
       " 'behind': {1},\n",
       " 'analytics': {1},\n",
       " 'example': {1},\n",
       " 'technique': {1},\n",
       " 'used': {1},\n",
       " 'predict': {1},\n",
       " 'stock': {1},\n",
       " 'market': {1},\n",
       " 'outcomes': {1}}"
      ]
     },
     "execution_count": 9,
     "metadata": {},
     "output_type": "execute_result"
    }
   ],
   "source": [
    "inverted_index= {}\n",
    "for i , doc in enumerate(doc):\n",
    "    for term in doc.split():\n",
    "        if term in inverted_index:\n",
    "            inverted_index[term].add(i)\n",
    "        else:\n",
    "            inverted_index[term]={i}\n",
    "inverted_index"
   ]
  },
  {
   "cell_type": "code",
   "execution_count": 10,
   "id": "d4207ae7",
   "metadata": {},
   "outputs": [
    {
     "data": {
      "text/plain": [
       "{0}"
      ]
     },
     "execution_count": 10,
     "metadata": {},
     "output_type": "execute_result"
    }
   ],
   "source": [
    "posting_list=inverted_index['partially']\n",
    "posting_list"
   ]
  },
  {
   "cell_type": "code",
   "execution_count": 11,
   "id": "33243ef1",
   "metadata": {},
   "outputs": [],
   "source": [
    "def or_posting(posting1,posting2):\n",
    "    p1=0\n",
    "    p2=0\n",
    "    result= list()\n",
    "    while p1< len(posting1) and p2<len(posting2):\n",
    "        if posting1[p1]==posting2[p2]:\n",
    "            result.append(posting1[p1])\n",
    "            p1 += 1\n",
    "            p2 += 1\n",
    "        elif posting1[p1]> posting2[p2]:\n",
    "            result.append(posting2[p2])\n",
    "            p2 += 1\n",
    "        else:\n",
    "            result.append(posting1[p1])\n",
    "            p1 += 1\n",
    "        while p1< len(posting1):\n",
    "            result.append(posting1[p1])\n",
    "            p1 += 1\n",
    "        while p2< len(posting2):\n",
    "            result.append(posting2[p2])\n",
    "            p2 += 1\n",
    "        return result"
   ]
  },
  {
   "cell_type": "code",
   "execution_count": 12,
   "id": "41db89e3",
   "metadata": {},
   "outputs": [
    {
     "data": {
      "text/plain": [
       "[1]"
      ]
     },
     "execution_count": 12,
     "metadata": {},
     "output_type": "execute_result"
    }
   ],
   "source": [
    "pl_1=list(inverted_index['character'])\n",
    "pl_2=list(inverted_index['scanned'])\n",
    "or_posting(pl_1,pl_2)"
   ]
  },
  {
   "cell_type": "code",
   "execution_count": 13,
   "id": "c1bc2954",
   "metadata": {},
   "outputs": [],
   "source": [
    "def and_postings(posting1, posting2):\n",
    "    p1=0\n",
    "    p2=0\n",
    "    result=list()\n",
    "    while p1< len(posting1) and p2< len(posting2):\n",
    "        if posting1[p1]== posting2[p2]:\n",
    "            result.append(posting1[p1])\n",
    "            p1 += 1\n",
    "            p2 += 1\n",
    "        elif posting1[p1] > posting2[p2] :\n",
    "            p2 += 1\n",
    "        else:\n",
    "            p1 += 1\n",
    "        return result"
   ]
  },
  {
   "cell_type": "code",
   "execution_count": 14,
   "id": "becc592d",
   "metadata": {},
   "outputs": [
    {
     "data": {
      "text/plain": [
       "[]"
      ]
     },
     "execution_count": 14,
     "metadata": {},
     "output_type": "execute_result"
    }
   ],
   "source": [
    "pl_1=list(inverted_index['character'])\n",
    "pl_2=list(inverted_index['obscured'])\n",
    "and_postings(pl_1,pl_2)"
   ]
  },
  {
   "cell_type": "code",
   "execution_count": 18,
   "id": "99d721d3",
   "metadata": {},
   "outputs": [
    {
     "data": {
      "text/plain": [
       "'pattern recognition variety applications including image processing speech fingerprint recognition aerial photo interpretation optical character recognition scanned documents contracts photographs even medical imaging diagnosis pattern recognition also technology behind data analytics example technique used predict stock market outcomes'"
      ]
     },
     "execution_count": 18,
     "metadata": {},
     "output_type": "execute_result"
    }
   ],
   "source": [
    "doc"
   ]
  },
  {
   "cell_type": "code",
   "execution_count": 28,
   "id": "ea6e1f54",
   "metadata": {},
   "outputs": [
    {
     "name": "stdout",
     "output_type": "stream",
     "text": [
      "doc- 1 position- 29\n",
      "frequency of the word in doc 1 = 1\n",
      "doc- 2 position- 26\n",
      "frequency of the word in doc 2 = 1\n"
     ]
    }
   ],
   "source": [
    " def preprocess(a):\n",
    "  index=1\n",
    "  for i in docs:\n",
    "    i=i.lower()\n",
    "    j=\"\"\n",
    "    j=\"\".join([c for c in i if c not in string.punctuation])\n",
    "    i=\"\"\n",
    "    i=j\n",
    "    i=word_tokenize(i)\n",
    "    stop_words=set(stopwords.words('english'))\n",
    "    final_list=[]\n",
    "    #removal of stop words\n",
    "    for word in i:\n",
    "      if word not in stop_words:\n",
    "        final_list.append(word)\n",
    "        i=[]\n",
    "        i=final_list\n",
    "    #stemming and lemmatization\n",
    "    for word in i:\n",
    "      word=stemmer.stem(word)\n",
    "      word=lemmatizer.lemmatize(word)\n",
    "    count=0\n",
    "    freq=0\n",
    "    for wor in i:\n",
    "      if a==wor:\n",
    "        freq=freq+1\n",
    "        print(\"doc-\",index,\"position-\",count)\n",
    "      count=count+1\n",
    "    print(\"frequency of the word in doc\",index,\"=\",freq) \n",
    "    index=index+1   \n",
    "preprocess(a)"
   ]
  },
  {
   "cell_type": "code",
   "execution_count": null,
   "id": "d90b1fc0",
   "metadata": {},
   "outputs": [],
   "source": []
  }
 ],
 "metadata": {
  "kernelspec": {
   "display_name": "Python 3 (ipykernel)",
   "language": "python",
   "name": "python3"
  },
  "language_info": {
   "codemirror_mode": {
    "name": "ipython",
    "version": 3
   },
   "file_extension": ".py",
   "mimetype": "text/x-python",
   "name": "python",
   "nbconvert_exporter": "python",
   "pygments_lexer": "ipython3",
   "version": "3.9.7"
  }
 },
 "nbformat": 4,
 "nbformat_minor": 5
}
